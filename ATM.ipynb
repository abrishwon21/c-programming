{
  "nbformat": 4,
  "nbformat_minor": 0,
  "metadata": {
    "colab": {
      "name": "Untitled1.ipynb",
      "provenance": [],
      "collapsed_sections": [],
      "authorship_tag": "ABX9TyNQtjBk5lz8rUvb1wDqp/2W",
      "include_colab_link": true
    },
    "kernelspec": {
      "name": "python3",
      "display_name": "Python 3"
    }
  },
  "cells": [
    {
      "cell_type": "markdown",
      "metadata": {
        "id": "view-in-github",
        "colab_type": "text"
      },
      "source": [
        "<a href=\"https://colab.research.google.com/github/abrishwon21/c-programming/blob/master/ATM.ipynb\" target=\"_parent\"><img src=\"https://colab.research.google.com/assets/colab-badge.svg\" alt=\"Open In Colab\"/></a>"
      ]
    },
    {
      "cell_type": "code",
      "metadata": {
        "id": "dFLqjN8Fi9o7",
        "colab_type": "code",
        "colab": {
          "base_uri": "https://localhost:8080/",
          "height": 173
        },
        "outputId": "4a776d8f-3f74-4be8-d2d4-7bbfeb812376"
      },
      "source": [
        "def printData(*v):\n",
        "  for i in v:\n",
        "    print(i)\n",
        "  print('_________________________')\n",
        "\n",
        "printData(10,20)\n",
        "printData('a','b','c')\n",
        "printData(\"hello\")"
      ],
      "execution_count": 1,
      "outputs": [
        {
          "output_type": "stream",
          "text": [
            "10\n",
            "20\n",
            "_________________________\n",
            "a\n",
            "b\n",
            "c\n",
            "_________________________\n",
            "hello\n",
            "_________________________\n"
          ],
          "name": "stdout"
        }
      ]
    },
    {
      "cell_type": "code",
      "metadata": {
        "id": "QuiCq_sMpXmJ",
        "colab_type": "code",
        "colab": {
          "base_uri": "https://localhost:8080/",
          "height": 295
        },
        "outputId": "7eb2ed65-12cb-488a-8979-a0b43fbb309e"
      },
      "source": [
        "#now let's see the key-variable arguments\n",
        "def kyvarAr(**v):\n",
        "  print(v)\n",
        "  for k in v.keys():\n",
        "    print(k)\n",
        "  print('values are')\n",
        "  for i in v.values():\n",
        "    print(i)\n",
        "  print('_______________________________________')\n",
        "kyvarAr(a=10,b=20)\n",
        "kyvarAr(fname='abrish',lname='wondimu',language='english')"
      ],
      "execution_count": 4,
      "outputs": [
        {
          "output_type": "stream",
          "text": [
            "{'a': 10, 'b': 20}\n",
            "a\n",
            "b\n",
            "values are\n",
            "10\n",
            "20\n",
            "_______________________________________\n",
            "{'fname': 'abrish', 'lname': 'wondimu', 'language': 'english'}\n",
            "fname\n",
            "lname\n",
            "language\n",
            "values are\n",
            "abrish\n",
            "wondimu\n",
            "english\n",
            "_______________________________________\n"
          ],
          "name": "stdout"
        }
      ]
    },
    {
      "cell_type": "code",
      "metadata": {
        "id": "s9tMcmL-r387",
        "colab_type": "code",
        "colab": {
          "base_uri": "https://localhost:8080/",
          "height": 225
        },
        "outputId": "07609584-49d5-4055-f76f-669f786d1ffd"
      },
      "source": [
        "def printData(k,*v):\n",
        "  print('----value of k---',k)\n",
        "  for x in v:\n",
        "    print(x)\n",
        "    print('-------------------')\n",
        "printData('a','b','c','d')\n",
        "printData(100,200,300)"
      ],
      "execution_count": 7,
      "outputs": [
        {
          "output_type": "stream",
          "text": [
            "----value of k--- a\n",
            "b\n",
            "-------------------\n",
            "c\n",
            "-------------------\n",
            "d\n",
            "-------------------\n",
            "----value of k--- 100\n",
            "200\n",
            "-------------------\n",
            "300\n",
            "-------------------\n"
          ],
          "name": "stdout"
        }
      ]
    },
    {
      "cell_type": "code",
      "metadata": {
        "id": "99YBbmyTtDIG",
        "colab_type": "code",
        "colab": {
          "base_uri": "https://localhost:8080/",
          "height": 35
        },
        "outputId": "a57bf38d-8633-4e8c-b2ac-2071df4b2456"
      },
      "source": [
        "def recurFunct(n):\n",
        "  if(n>11):\n",
        "    return n\n",
        "  print(n)\n",
        "  n=n+1\n",
        "  recurFunct(n)\n",
        "count=1\n",
        "print(recurFunct(count))"
      ],
      "execution_count": 11,
      "outputs": [
        {
          "output_type": "stream",
          "text": [
            "1\n"
          ],
          "name": "stdout"
        }
      ]
    },
    {
      "cell_type": "code",
      "metadata": {
        "id": "Kfr86sll_R1d",
        "colab_type": "code",
        "colab": {
          "base_uri": "https://localhost:8080/",
          "height": 35
        },
        "outputId": "90afec85-2ef9-48f1-9fd0-e495a0d647ba"
      },
      "source": [
        "print(\"hello\")"
      ],
      "execution_count": 13,
      "outputs": [
        {
          "output_type": "stream",
          "text": [
            "hello\n"
          ],
          "name": "stdout"
        }
      ]
    },
    {
      "cell_type": "code",
      "metadata": {
        "id": "pdPtyBdw_bGi",
        "colab_type": "code",
        "colab": {
          "base_uri": "https://localhost:8080/",
          "height": 208
        },
        "outputId": "f8867f7f-479f-44bb-b92b-727daf394b09"
      },
      "source": [
        "import pickle as p\n",
        "import os\n",
        "#os.mkdir(\"acountInfo\")\n",
        "print(\"for creating account enter 1\")\n",
        "print(\"for using bank enter 2\")\n",
        "operations=int(input(\"please enter your choice\"))\n",
        "path=\"/content/acountInfo\"\n",
        "def createACount():\n",
        "  print(\"welcome to our ATM service\")\n",
        "  name=input(\"create username\")\n",
        "  accountno=input(\"enter account number\")\n",
        "  amt=input(\"please enter the amount of money\")\n",
        "  pin=input(\"create pin code\")\n",
        "  dict={\"acountholder\":name,\"accountnumber\":accountno,\"amount\":amt,\"pincode\":pin}\n",
        "  #now to serialize use the file concept and dump of pickle module\n",
        "  saveinfo=open(path+str(pin)+\".pickle\",\"wb\")\n",
        "  p.dump(dict,saveinfo)\n",
        "  saveinfo.close()\n",
        "\n",
        "def acountdetails():\n",
        "  #if some one wants to see the account details\n",
        "  #open file in read byte mode\n",
        "  userpin=input(\"please enter pin number\")\n",
        "  seeDtails=open(path+str(userpin)+\".pickle\",\"rb\")\n",
        "  info=p.load(seeDtails)\n",
        "  pa=info['acountholder']\n",
        "  print(pa,\"your account details is the following\")\n",
        "  print(info)\n",
        "\n",
        "  seeDtails.close()\n",
        "  \n",
        "def depositMoney():\n",
        "  pass\n",
        "def generatePin():\n",
        "  pass\n",
        "def withdrawMoney():\n",
        "  pass\n",
        "def useAtm():\n",
        "  #now to access or deserialize let's use this method\n",
        "  print(\"1:for account details\")\n",
        "  print(\"2:to deposit money\")\n",
        "  print(\"3:generate pin\")\n",
        "  print(\"4:to withdraw money\")\n",
        "  op=int(input(\"please your choice\"))\n",
        "  if(op==1):\n",
        "    acountdetails()\n",
        "  elif(op==2):\n",
        "    depositMoney()\n",
        "  elif(op==3):\n",
        "    generatePin()\n",
        "  elif(op==4):\n",
        "    withdrawMoney()\n",
        "  else:\n",
        "    print(\"Invalid choice\")\n",
        "\n",
        "\n",
        "if(operations==1):\n",
        "  createACount()\n",
        "elif(operations==2):\n",
        "  useAtm()\n",
        "else:\n",
        "  print(\"invalid choice\")"
      ],
      "execution_count": 33,
      "outputs": [
        {
          "output_type": "stream",
          "text": [
            "for creating account enter 1\n",
            "for using bank enter 2\n",
            "please enter your choice2\n",
            "1:for account details\n",
            "2:to deposit money\n",
            "3:generate pin\n",
            "4:to withdraw money\n",
            "please your choice1\n",
            "please enter pin number213\n",
            "haile your account details is the following\n",
            "{'acountholder': 'haile', 'accountnumber': '12354', 'amount': '100', 'pincode': '213'}\n"
          ],
          "name": "stdout"
        }
      ]
    },
    {
      "cell_type": "code",
      "metadata": {
        "id": "wBNloNI5EmjU",
        "colab_type": "code",
        "colab": {}
      },
      "source": [
        ""
      ],
      "execution_count": null,
      "outputs": []
    },
    {
      "cell_type": "markdown",
      "metadata": {
        "id": "TOFqEp8w_rlW",
        "colab_type": "text"
      },
      "source": [
        "# New Section"
      ]
    }
  ]
}